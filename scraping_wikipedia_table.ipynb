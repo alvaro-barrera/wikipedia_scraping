{
  "nbformat": 4,
  "nbformat_minor": 0,
  "metadata": {
    "colab": {
      "name": "scraping_wikipedia_table.ipynb",
      "provenance": [],
      "authorship_tag": "ABX9TyPw7xIYz+1bLG3v0FnAt2VY",
      "include_colab_link": true
    },
    "kernelspec": {
      "name": "python3",
      "display_name": "Python 3"
    },
    "language_info": {
      "name": "python"
    }
  },
  "cells": [
    {
      "cell_type": "markdown",
      "metadata": {
        "id": "view-in-github",
        "colab_type": "text"
      },
      "source": [
        "<a href=\"https://colab.research.google.com/github/alvaro-barrera/wikipedia_scraping/blob/main/scraping_wikipedia_table.ipynb\" target=\"_parent\"><img src=\"https://colab.research.google.com/assets/colab-badge.svg\" alt=\"Open In Colab\"/></a>"
      ]
    },
    {
      "cell_type": "code",
      "metadata": {
        "id": "Oah27f4n0p-u"
      },
      "source": [
        "from sklearn.model_selection import train_test_split, KFold\n",
        "from sklearn.metrics import r2_score\n",
        "from sklearn import linear_model\n",
        "from bs4 import BeautifulSoup\n",
        "import requests, re, time\n",
        "import pandas as pd\n",
        "import numpy as np"
      ],
      "execution_count": null,
      "outputs": []
    },
    {
      "cell_type": "code",
      "metadata": {
        "id": "_qNlQXEP1FLA"
      },
      "source": [
        "page = requests.get('https://es.wikipedia.org/wiki/Anexo:Países_de_América_Latina_por_índice_de_desarrollo_humano')\n",
        "soup = BeautifulSoup(page.content,'html.parser')"
      ],
      "execution_count": null,
      "outputs": []
    },
    {
      "cell_type": "code",
      "metadata": {
        "id": "bvYC0rSx12Ep"
      },
      "source": [
        "table = soup.find('table')"
      ],
      "execution_count": null,
      "outputs": []
    },
    {
      "cell_type": "code",
      "metadata": {
        "colab": {
          "base_uri": "https://localhost:8080/"
        },
        "id": "r6iEUg4318iE",
        "outputId": "884640e5-dce9-4b24-d52a-2090da3c0249"
      },
      "source": [
        "print(table)"
      ],
      "execution_count": null,
      "outputs": [
        {
          "output_type": "stream",
          "text": [
            "<table class=\"wikitable sortable col1cen col2izq col3izq col4cen col5izq\">\n",
            "<tbody><tr>\n",
            "<th colspan=\"5\" style=\"color:#009900\">IDH Muy alto\n",
            "</th></tr>\n",
            "<tr>\n",
            "<th>Puesto\n",
            "</th>\n",
            "<th>País\n",
            "</th>\n",
            "<th>IDH según datos del 2019\n",
            "</th>\n",
            "<th>Puesto\n",
            "</th>\n",
            "<th>Diferencia con datos del 2018\n",
            "</th></tr>\n",
            "<tr>\n",
            "<td>1</td>\n",
            "<td><span class=\"flagicon\"><img alt=\"Bandera de Chile\" class=\"thumbborder\" data-file-height=\"1000\" data-file-width=\"1500\" decoding=\"async\" height=\"13\" src=\"//upload.wikimedia.org/wikipedia/commons/thumb/7/78/Flag_of_Chile.svg/20px-Flag_of_Chile.svg.png\" srcset=\"//upload.wikimedia.org/wikipedia/commons/thumb/7/78/Flag_of_Chile.svg/30px-Flag_of_Chile.svg.png 1.5x, //upload.wikimedia.org/wikipedia/commons/thumb/7/78/Flag_of_Chile.svg/40px-Flag_of_Chile.svg.png 2x\" title=\"Bandera de Chile\" width=\"20\"/></span> <a href=\"/wiki/Chile\" title=\"Chile\">Chile</a>\n",
            "</td>\n",
            "<td><span title=\"Crecimiento\"><img alt=\"Crecimiento\" data-file-height=\"300\" data-file-width=\"300\" decoding=\"async\" height=\"11\" src=\"//upload.wikimedia.org/wikipedia/commons/thumb/b/b0/Increase2.svg/11px-Increase2.svg.png\" srcset=\"//upload.wikimedia.org/wikipedia/commons/thumb/b/b0/Increase2.svg/17px-Increase2.svg.png 1.5x, //upload.wikimedia.org/wikipedia/commons/thumb/b/b0/Increase2.svg/22px-Increase2.svg.png 2x\" width=\"11\"/></span> 0,851\n",
            "</td>\n",
            "<td>43\n",
            "</td>\n",
            "<td><span title=\"Crecimiento\"><img alt=\"Crecimiento\" data-file-height=\"300\" data-file-width=\"300\" decoding=\"async\" height=\"11\" src=\"//upload.wikimedia.org/wikipedia/commons/thumb/b/b0/Increase2.svg/11px-Increase2.svg.png\" srcset=\"//upload.wikimedia.org/wikipedia/commons/thumb/b/b0/Increase2.svg/17px-Increase2.svg.png 1.5x, //upload.wikimedia.org/wikipedia/commons/thumb/b/b0/Increase2.svg/22px-Increase2.svg.png 2x\" width=\"11\"/></span> 0,004\n",
            "</td></tr>\n",
            "<tr>\n",
            "<td>2</td>\n",
            "<td><span class=\"flagicon\"><img alt=\"Bandera de Argentina\" class=\"thumbborder\" data-file-height=\"500\" data-file-width=\"800\" decoding=\"async\" height=\"13\" src=\"//upload.wikimedia.org/wikipedia/commons/thumb/1/1a/Flag_of_Argentina.svg/20px-Flag_of_Argentina.svg.png\" srcset=\"//upload.wikimedia.org/wikipedia/commons/thumb/1/1a/Flag_of_Argentina.svg/30px-Flag_of_Argentina.svg.png 1.5x, //upload.wikimedia.org/wikipedia/commons/thumb/1/1a/Flag_of_Argentina.svg/40px-Flag_of_Argentina.svg.png 2x\" title=\"Bandera de Argentina\" width=\"20\"/></span> <a href=\"/wiki/Argentina\" title=\"Argentina\">Argentina</a>\n",
            "</td>\n",
            "<td><span title=\"Crecimiento\"><img alt=\"Crecimiento\" data-file-height=\"300\" data-file-width=\"300\" decoding=\"async\" height=\"11\" src=\"//upload.wikimedia.org/wikipedia/commons/thumb/b/b0/Increase2.svg/11px-Increase2.svg.png\" srcset=\"//upload.wikimedia.org/wikipedia/commons/thumb/b/b0/Increase2.svg/17px-Increase2.svg.png 1.5x, //upload.wikimedia.org/wikipedia/commons/thumb/b/b0/Increase2.svg/22px-Increase2.svg.png 2x\" width=\"11\"/></span> 0,845\n",
            "</td>\n",
            "<td>46\n",
            "</td>\n",
            "<td><span title=\"Crecimiento\"><img alt=\"Crecimiento\" data-file-height=\"300\" data-file-width=\"300\" decoding=\"async\" height=\"11\" src=\"//upload.wikimedia.org/wikipedia/commons/thumb/b/b0/Increase2.svg/11px-Increase2.svg.png\" srcset=\"//upload.wikimedia.org/wikipedia/commons/thumb/b/b0/Increase2.svg/17px-Increase2.svg.png 1.5x, //upload.wikimedia.org/wikipedia/commons/thumb/b/b0/Increase2.svg/22px-Increase2.svg.png 2x\" width=\"11\"/></span> 0,015\n",
            "</td></tr>\n",
            "<tr>\n",
            "<td>3</td>\n",
            "<td><span class=\"flagicon\"><img alt=\"Bandera de Uruguay\" class=\"thumbborder\" data-file-height=\"630\" data-file-width=\"945\" decoding=\"async\" height=\"13\" src=\"//upload.wikimedia.org/wikipedia/commons/thumb/f/fe/Flag_of_Uruguay.svg/20px-Flag_of_Uruguay.svg.png\" srcset=\"//upload.wikimedia.org/wikipedia/commons/thumb/f/fe/Flag_of_Uruguay.svg/30px-Flag_of_Uruguay.svg.png 1.5x, //upload.wikimedia.org/wikipedia/commons/thumb/f/fe/Flag_of_Uruguay.svg/40px-Flag_of_Uruguay.svg.png 2x\" title=\"Bandera de Uruguay\" width=\"20\"/></span> <a href=\"/wiki/Uruguay\" title=\"Uruguay\">Uruguay</a>\n",
            "</td>\n",
            "<td><span title=\"Crecimiento\"><img alt=\"Crecimiento\" data-file-height=\"300\" data-file-width=\"300\" decoding=\"async\" height=\"11\" src=\"//upload.wikimedia.org/wikipedia/commons/thumb/b/b0/Increase2.svg/11px-Increase2.svg.png\" srcset=\"//upload.wikimedia.org/wikipedia/commons/thumb/b/b0/Increase2.svg/17px-Increase2.svg.png 1.5x, //upload.wikimedia.org/wikipedia/commons/thumb/b/b0/Increase2.svg/22px-Increase2.svg.png 2x\" width=\"11\"/></span> 0,817\n",
            "</td>\n",
            "<td>55\n",
            "</td>\n",
            "<td><span title=\"Crecimiento\"><img alt=\"Crecimiento\" data-file-height=\"300\" data-file-width=\"300\" decoding=\"async\" height=\"11\" src=\"//upload.wikimedia.org/wikipedia/commons/thumb/b/b0/Increase2.svg/11px-Increase2.svg.png\" srcset=\"//upload.wikimedia.org/wikipedia/commons/thumb/b/b0/Increase2.svg/17px-Increase2.svg.png 1.5x, //upload.wikimedia.org/wikipedia/commons/thumb/b/b0/Increase2.svg/22px-Increase2.svg.png 2x\" width=\"11\"/></span> 0,009\n",
            "</td></tr>\n",
            "<tr>\n",
            "<td>4</td>\n",
            "<td><span class=\"flagicon\"><img alt=\"Bandera de Panamá\" class=\"thumbborder\" data-file-height=\"600\" data-file-width=\"900\" decoding=\"async\" height=\"13\" src=\"//upload.wikimedia.org/wikipedia/commons/thumb/a/ab/Flag_of_Panama.svg/20px-Flag_of_Panama.svg.png\" srcset=\"//upload.wikimedia.org/wikipedia/commons/thumb/a/ab/Flag_of_Panama.svg/30px-Flag_of_Panama.svg.png 1.5x, //upload.wikimedia.org/wikipedia/commons/thumb/a/ab/Flag_of_Panama.svg/40px-Flag_of_Panama.svg.png 2x\" title=\"Bandera de Panamá\" width=\"20\"/></span> <a href=\"/wiki/Panam%C3%A1\" title=\"Panamá\">Panamá</a>\n",
            "</td>\n",
            "<td><span title=\"Crecimiento\"><img alt=\"Crecimiento\" data-file-height=\"300\" data-file-width=\"300\" decoding=\"async\" height=\"11\" src=\"//upload.wikimedia.org/wikipedia/commons/thumb/b/b0/Increase2.svg/11px-Increase2.svg.png\" srcset=\"//upload.wikimedia.org/wikipedia/commons/thumb/b/b0/Increase2.svg/17px-Increase2.svg.png 1.5x, //upload.wikimedia.org/wikipedia/commons/thumb/b/b0/Increase2.svg/22px-Increase2.svg.png 2x\" width=\"11\"/></span> 0,815\n",
            "</td>\n",
            "<td>57\n",
            "</td>\n",
            "<td><span title=\"Crecimiento\"><img alt=\"Crecimiento\" data-file-height=\"300\" data-file-width=\"300\" decoding=\"async\" height=\"11\" src=\"//upload.wikimedia.org/wikipedia/commons/thumb/b/b0/Increase2.svg/11px-Increase2.svg.png\" srcset=\"//upload.wikimedia.org/wikipedia/commons/thumb/b/b0/Increase2.svg/17px-Increase2.svg.png 1.5x, //upload.wikimedia.org/wikipedia/commons/thumb/b/b0/Increase2.svg/22px-Increase2.svg.png 2x\" width=\"11\"/></span> 0,020\n",
            "</td></tr>\n",
            "<tr>\n",
            "<td>5</td>\n",
            "<td><span class=\"flagicon\"><img alt=\"Bandera de Costa Rica\" class=\"thumbborder\" data-file-height=\"600\" data-file-width=\"1000\" decoding=\"async\" height=\"12\" src=\"//upload.wikimedia.org/wikipedia/commons/thumb/f/f2/Flag_of_Costa_Rica.svg/20px-Flag_of_Costa_Rica.svg.png\" srcset=\"//upload.wikimedia.org/wikipedia/commons/thumb/f/f2/Flag_of_Costa_Rica.svg/30px-Flag_of_Costa_Rica.svg.png 1.5x, //upload.wikimedia.org/wikipedia/commons/thumb/f/f2/Flag_of_Costa_Rica.svg/40px-Flag_of_Costa_Rica.svg.png 2x\" title=\"Bandera de Costa Rica\" width=\"20\"/></span> <a href=\"/wiki/Costa_Rica\" title=\"Costa Rica\">Costa Rica</a>\n",
            "</td>\n",
            "<td><span title=\"Crecimiento\"><img alt=\"Crecimiento\" data-file-height=\"300\" data-file-width=\"300\" decoding=\"async\" height=\"11\" src=\"//upload.wikimedia.org/wikipedia/commons/thumb/b/b0/Increase2.svg/11px-Increase2.svg.png\" srcset=\"//upload.wikimedia.org/wikipedia/commons/thumb/b/b0/Increase2.svg/17px-Increase2.svg.png 1.5x, //upload.wikimedia.org/wikipedia/commons/thumb/b/b0/Increase2.svg/22px-Increase2.svg.png 2x\" width=\"11\"/></span> 0,810\n",
            "</td>\n",
            "<td>62\n",
            "</td>\n",
            "<td><span title=\"Crecimiento\"><img alt=\"Crecimiento\" data-file-height=\"300\" data-file-width=\"300\" decoding=\"async\" height=\"11\" src=\"//upload.wikimedia.org/wikipedia/commons/thumb/b/b0/Increase2.svg/11px-Increase2.svg.png\" srcset=\"//upload.wikimedia.org/wikipedia/commons/thumb/b/b0/Increase2.svg/17px-Increase2.svg.png 1.5x, //upload.wikimedia.org/wikipedia/commons/thumb/b/b0/Increase2.svg/22px-Increase2.svg.png 2x\" width=\"11\"/></span> 0,016\n",
            "</td></tr>\n",
            "<tr>\n",
            "<th colspan=\"5\" style=\"color:#00CC00\">IDH Alto\n",
            "</th></tr>\n",
            "<tr>\n",
            "<td>6</td>\n",
            "<td><span class=\"flagicon\"><img alt=\"Bandera de Cuba\" class=\"thumbborder\" data-file-height=\"600\" data-file-width=\"1200\" decoding=\"async\" height=\"10\" src=\"//upload.wikimedia.org/wikipedia/commons/thumb/b/bd/Flag_of_Cuba.svg/20px-Flag_of_Cuba.svg.png\" srcset=\"//upload.wikimedia.org/wikipedia/commons/thumb/b/bd/Flag_of_Cuba.svg/30px-Flag_of_Cuba.svg.png 1.5x, //upload.wikimedia.org/wikipedia/commons/thumb/b/bd/Flag_of_Cuba.svg/40px-Flag_of_Cuba.svg.png 2x\" title=\"Bandera de Cuba\" width=\"20\"/></span> <a href=\"/wiki/Cuba\" title=\"Cuba\">Cuba</a>\n",
            "</td>\n",
            "<td><span title=\"Crecimiento\"><img alt=\"Crecimiento\" data-file-height=\"300\" data-file-width=\"300\" decoding=\"async\" height=\"11\" src=\"//upload.wikimedia.org/wikipedia/commons/thumb/b/b0/Increase2.svg/11px-Increase2.svg.png\" srcset=\"//upload.wikimedia.org/wikipedia/commons/thumb/b/b0/Increase2.svg/17px-Increase2.svg.png 1.5x, //upload.wikimedia.org/wikipedia/commons/thumb/b/b0/Increase2.svg/22px-Increase2.svg.png 2x\" width=\"11\"/></span> 0,783\n",
            "</td>\n",
            "<td>70\n",
            "</td>\n",
            "<td><span title=\"Crecimiento\"><img alt=\"Crecimiento\" data-file-height=\"300\" data-file-width=\"300\" decoding=\"async\" height=\"11\" src=\"//upload.wikimedia.org/wikipedia/commons/thumb/b/b0/Increase2.svg/11px-Increase2.svg.png\" srcset=\"//upload.wikimedia.org/wikipedia/commons/thumb/b/b0/Increase2.svg/17px-Increase2.svg.png 1.5x, //upload.wikimedia.org/wikipedia/commons/thumb/b/b0/Increase2.svg/22px-Increase2.svg.png 2x\" width=\"11\"/></span> 0,005\n",
            "</td></tr>\n",
            "<tr>\n",
            "<td>7</td>\n",
            "<td><span class=\"flagicon\"><img alt=\"Bandera de México\" class=\"thumbborder\" data-file-height=\"560\" data-file-width=\"980\" decoding=\"async\" height=\"11\" src=\"//upload.wikimedia.org/wikipedia/commons/thumb/f/fc/Flag_of_Mexico.svg/20px-Flag_of_Mexico.svg.png\" srcset=\"//upload.wikimedia.org/wikipedia/commons/thumb/f/fc/Flag_of_Mexico.svg/30px-Flag_of_Mexico.svg.png 1.5x, //upload.wikimedia.org/wikipedia/commons/thumb/f/fc/Flag_of_Mexico.svg/40px-Flag_of_Mexico.svg.png 2x\" title=\"Bandera de México\" width=\"20\"/></span> <a href=\"/wiki/M%C3%A9xico\" title=\"México\">México</a>\n",
            "</td>\n",
            "<td><span title=\"Crecimiento\"><img alt=\"Crecimiento\" data-file-height=\"300\" data-file-width=\"300\" decoding=\"async\" height=\"11\" src=\"//upload.wikimedia.org/wikipedia/commons/thumb/b/b0/Increase2.svg/11px-Increase2.svg.png\" srcset=\"//upload.wikimedia.org/wikipedia/commons/thumb/b/b0/Increase2.svg/17px-Increase2.svg.png 1.5x, //upload.wikimedia.org/wikipedia/commons/thumb/b/b0/Increase2.svg/22px-Increase2.svg.png 2x\" width=\"11\"/></span> 0,779\n",
            "</td>\n",
            "<td>74\n",
            "</td>\n",
            "<td><span title=\"Crecimiento\"><img alt=\"Crecimiento\" data-file-height=\"300\" data-file-width=\"300\" decoding=\"async\" height=\"11\" src=\"//upload.wikimedia.org/wikipedia/commons/thumb/b/b0/Increase2.svg/11px-Increase2.svg.png\" srcset=\"//upload.wikimedia.org/wikipedia/commons/thumb/b/b0/Increase2.svg/17px-Increase2.svg.png 1.5x, //upload.wikimedia.org/wikipedia/commons/thumb/b/b0/Increase2.svg/22px-Increase2.svg.png 2x\" width=\"11\"/></span> 0,012\n",
            "</td></tr>\n",
            "<tr>\n",
            "<td>8</td>\n",
            "<td><span class=\"flagicon\"><img alt=\"Bandera de Perú\" class=\"thumbborder\" data-file-height=\"600\" data-file-width=\"900\" decoding=\"async\" height=\"13\" src=\"//upload.wikimedia.org/wikipedia/commons/thumb/c/cf/Flag_of_Peru.svg/20px-Flag_of_Peru.svg.png\" srcset=\"//upload.wikimedia.org/wikipedia/commons/thumb/c/cf/Flag_of_Peru.svg/30px-Flag_of_Peru.svg.png 1.5x, //upload.wikimedia.org/wikipedia/commons/thumb/c/cf/Flag_of_Peru.svg/40px-Flag_of_Peru.svg.png 2x\" title=\"Bandera de Perú\" width=\"20\"/></span> <a href=\"/wiki/Per%C3%BA\" title=\"Perú\">Perú</a>\n",
            "</td>\n",
            "<td><span title=\"Crecimiento\"><img alt=\"Crecimiento\" data-file-height=\"300\" data-file-width=\"300\" decoding=\"async\" height=\"11\" src=\"//upload.wikimedia.org/wikipedia/commons/thumb/b/b0/Increase2.svg/11px-Increase2.svg.png\" srcset=\"//upload.wikimedia.org/wikipedia/commons/thumb/b/b0/Increase2.svg/17px-Increase2.svg.png 1.5x, //upload.wikimedia.org/wikipedia/commons/thumb/b/b0/Increase2.svg/22px-Increase2.svg.png 2x\" width=\"11\"/></span> 0,777\n",
            "</td>\n",
            "<td>79\n",
            "</td>\n",
            "<td><span title=\"Crecimiento\"><img alt=\"Crecimiento\" data-file-height=\"300\" data-file-width=\"300\" decoding=\"async\" height=\"11\" src=\"//upload.wikimedia.org/wikipedia/commons/thumb/b/b0/Increase2.svg/11px-Increase2.svg.png\" srcset=\"//upload.wikimedia.org/wikipedia/commons/thumb/b/b0/Increase2.svg/17px-Increase2.svg.png 1.5x, //upload.wikimedia.org/wikipedia/commons/thumb/b/b0/Increase2.svg/22px-Increase2.svg.png 2x\" width=\"11\"/></span> 0,018\n",
            "</td></tr>\n",
            "<tr>\n",
            "<td>9</td>\n",
            "<td><span class=\"flagicon\"><img alt=\"Bandera de Colombia\" class=\"thumbborder\" data-file-height=\"600\" data-file-width=\"900\" decoding=\"async\" height=\"13\" src=\"//upload.wikimedia.org/wikipedia/commons/thumb/2/21/Flag_of_Colombia.svg/20px-Flag_of_Colombia.svg.png\" srcset=\"//upload.wikimedia.org/wikipedia/commons/thumb/2/21/Flag_of_Colombia.svg/30px-Flag_of_Colombia.svg.png 1.5x, //upload.wikimedia.org/wikipedia/commons/thumb/2/21/Flag_of_Colombia.svg/40px-Flag_of_Colombia.svg.png 2x\" title=\"Bandera de Colombia\" width=\"20\"/></span> <a href=\"/wiki/Colombia\" title=\"Colombia\">Colombia</a>\n",
            "</td>\n",
            "<td><span title=\"Crecimiento\"><img alt=\"Crecimiento\" data-file-height=\"300\" data-file-width=\"300\" decoding=\"async\" height=\"11\" src=\"//upload.wikimedia.org/wikipedia/commons/thumb/b/b0/Increase2.svg/11px-Increase2.svg.png\" srcset=\"//upload.wikimedia.org/wikipedia/commons/thumb/b/b0/Increase2.svg/17px-Increase2.svg.png 1.5x, //upload.wikimedia.org/wikipedia/commons/thumb/b/b0/Increase2.svg/22px-Increase2.svg.png 2x\" width=\"11\"/></span> 0,767\n",
            "</td>\n",
            "<td>83\n",
            "</td>\n",
            "<td><span title=\"Crecimiento\"><img alt=\"Crecimiento\" data-file-height=\"300\" data-file-width=\"300\" decoding=\"async\" height=\"11\" src=\"//upload.wikimedia.org/wikipedia/commons/thumb/b/b0/Increase2.svg/11px-Increase2.svg.png\" srcset=\"//upload.wikimedia.org/wikipedia/commons/thumb/b/b0/Increase2.svg/17px-Increase2.svg.png 1.5x, //upload.wikimedia.org/wikipedia/commons/thumb/b/b0/Increase2.svg/22px-Increase2.svg.png 2x\" width=\"11\"/></span> 0,006\n",
            "</td></tr>\n",
            "<tr>\n",
            "<td>10</td>\n",
            "<td><span class=\"flagicon\"><img alt=\"Bandera de Brasil\" class=\"thumbborder\" data-file-height=\"504\" data-file-width=\"720\" decoding=\"async\" height=\"14\" src=\"//upload.wikimedia.org/wikipedia/commons/thumb/0/05/Flag_of_Brazil.svg/20px-Flag_of_Brazil.svg.png\" srcset=\"//upload.wikimedia.org/wikipedia/commons/thumb/0/05/Flag_of_Brazil.svg/30px-Flag_of_Brazil.svg.png 1.5x, //upload.wikimedia.org/wikipedia/commons/thumb/0/05/Flag_of_Brazil.svg/40px-Flag_of_Brazil.svg.png 2x\" title=\"Bandera de Brasil\" width=\"20\"/></span> <a href=\"/wiki/Brasil\" title=\"Brasil\">Brasil</a>\n",
            "</td>\n",
            "<td><span title=\"Crecimiento\"><img alt=\"Crecimiento\" data-file-height=\"300\" data-file-width=\"300\" decoding=\"async\" height=\"11\" src=\"//upload.wikimedia.org/wikipedia/commons/thumb/b/b0/Increase2.svg/11px-Increase2.svg.png\" srcset=\"//upload.wikimedia.org/wikipedia/commons/thumb/b/b0/Increase2.svg/17px-Increase2.svg.png 1.5x, //upload.wikimedia.org/wikipedia/commons/thumb/b/b0/Increase2.svg/22px-Increase2.svg.png 2x\" width=\"11\"/></span> 0,765\n",
            "</td>\n",
            "<td>84\n",
            "</td>\n",
            "<td><span title=\"Crecimiento\"><img alt=\"Crecimiento\" data-file-height=\"300\" data-file-width=\"300\" decoding=\"async\" height=\"11\" src=\"//upload.wikimedia.org/wikipedia/commons/thumb/b/b0/Increase2.svg/11px-Increase2.svg.png\" srcset=\"//upload.wikimedia.org/wikipedia/commons/thumb/b/b0/Increase2.svg/17px-Increase2.svg.png 1.5x, //upload.wikimedia.org/wikipedia/commons/thumb/b/b0/Increase2.svg/22px-Increase2.svg.png 2x\" width=\"11\"/></span> 0,004\n",
            "</td></tr>\n",
            "<tr>\n",
            "<td>11</td>\n",
            "<td><span class=\"flagicon\"><img alt=\"Bandera de Ecuador\" class=\"thumbborder\" data-file-height=\"960\" data-file-width=\"1440\" decoding=\"async\" height=\"13\" src=\"//upload.wikimedia.org/wikipedia/commons/thumb/e/e8/Flag_of_Ecuador.svg/20px-Flag_of_Ecuador.svg.png\" srcset=\"//upload.wikimedia.org/wikipedia/commons/thumb/e/e8/Flag_of_Ecuador.svg/30px-Flag_of_Ecuador.svg.png 1.5x, //upload.wikimedia.org/wikipedia/commons/thumb/e/e8/Flag_of_Ecuador.svg/40px-Flag_of_Ecuador.svg.png 2x\" title=\"Bandera de Ecuador\" width=\"20\"/></span> <a href=\"/wiki/Ecuador\" title=\"Ecuador\">Ecuador</a>\n",
            "</td>\n",
            "<td><span title=\"Crecimiento\"><img alt=\"Crecimiento\" data-file-height=\"300\" data-file-width=\"300\" decoding=\"async\" height=\"11\" src=\"//upload.wikimedia.org/wikipedia/commons/thumb/b/b0/Increase2.svg/11px-Increase2.svg.png\" srcset=\"//upload.wikimedia.org/wikipedia/commons/thumb/b/b0/Increase2.svg/17px-Increase2.svg.png 1.5x, //upload.wikimedia.org/wikipedia/commons/thumb/b/b0/Increase2.svg/22px-Increase2.svg.png 2x\" width=\"11\"/></span> 0,759\n",
            "</td>\n",
            "<td>86\n",
            "</td>\n",
            "<td><span title=\"Crecimiento\"><img alt=\"Crecimiento\" data-file-height=\"300\" data-file-width=\"300\" decoding=\"async\" height=\"11\" src=\"//upload.wikimedia.org/wikipedia/commons/thumb/b/b0/Increase2.svg/11px-Increase2.svg.png\" srcset=\"//upload.wikimedia.org/wikipedia/commons/thumb/b/b0/Increase2.svg/17px-Increase2.svg.png 1.5x, //upload.wikimedia.org/wikipedia/commons/thumb/b/b0/Increase2.svg/22px-Increase2.svg.png 2x\" width=\"11\"/></span> 0,001\n",
            "</td></tr>\n",
            "<tr>\n",
            "<td>12</td>\n",
            "<td><span class=\"flagicon\"><img alt=\"Bandera de la República Dominicana\" class=\"thumbborder\" data-file-height=\"600\" data-file-width=\"900\" decoding=\"async\" height=\"13\" src=\"//upload.wikimedia.org/wikipedia/commons/thumb/9/9f/Flag_of_the_Dominican_Republic.svg/20px-Flag_of_the_Dominican_Republic.svg.png\" srcset=\"//upload.wikimedia.org/wikipedia/commons/thumb/9/9f/Flag_of_the_Dominican_Republic.svg/30px-Flag_of_the_Dominican_Republic.svg.png 1.5x, //upload.wikimedia.org/wikipedia/commons/thumb/9/9f/Flag_of_the_Dominican_Republic.svg/40px-Flag_of_the_Dominican_Republic.svg.png 2x\" title=\"Bandera de la República Dominicana\" width=\"20\"/></span> <a href=\"/wiki/Rep%C3%BAblica_Dominicana\" title=\"República Dominicana\">República Dominicana</a>\n",
            "</td>\n",
            "<td><span title=\"Crecimiento\"><img alt=\"Crecimiento\" data-file-height=\"300\" data-file-width=\"300\" decoding=\"async\" height=\"11\" src=\"//upload.wikimedia.org/wikipedia/commons/thumb/b/b0/Increase2.svg/11px-Increase2.svg.png\" srcset=\"//upload.wikimedia.org/wikipedia/commons/thumb/b/b0/Increase2.svg/17px-Increase2.svg.png 1.5x, //upload.wikimedia.org/wikipedia/commons/thumb/b/b0/Increase2.svg/22px-Increase2.svg.png 2x\" width=\"11\"/></span> 0,756\n",
            "</td>\n",
            "<td>88\n",
            "</td>\n",
            "<td><span title=\"Crecimiento\"><img alt=\"Crecimiento\" data-file-height=\"300\" data-file-width=\"300\" decoding=\"async\" height=\"11\" src=\"//upload.wikimedia.org/wikipedia/commons/thumb/b/b0/Increase2.svg/11px-Increase2.svg.png\" srcset=\"//upload.wikimedia.org/wikipedia/commons/thumb/b/b0/Increase2.svg/17px-Increase2.svg.png 1.5x, //upload.wikimedia.org/wikipedia/commons/thumb/b/b0/Increase2.svg/22px-Increase2.svg.png 2x\" width=\"11\"/></span> 0,011\n",
            "</td></tr>\n",
            "<tr>\n",
            "<td>13</td>\n",
            "<td><span class=\"flagicon\"><img alt=\"Bandera de Paraguay\" class=\"thumbborder\" data-file-height=\"660\" data-file-width=\"1200\" decoding=\"async\" height=\"11\" src=\"//upload.wikimedia.org/wikipedia/commons/thumb/2/27/Flag_of_Paraguay.svg/20px-Flag_of_Paraguay.svg.png\" srcset=\"//upload.wikimedia.org/wikipedia/commons/thumb/2/27/Flag_of_Paraguay.svg/30px-Flag_of_Paraguay.svg.png 1.5x, //upload.wikimedia.org/wikipedia/commons/thumb/2/27/Flag_of_Paraguay.svg/40px-Flag_of_Paraguay.svg.png 2x\" title=\"Bandera de Paraguay\" width=\"20\"/></span> <a href=\"/wiki/Paraguay\" title=\"Paraguay\">Paraguay</a>\n",
            "</td>\n",
            "<td><span title=\"Crecimiento\"><img alt=\"Crecimiento\" data-file-height=\"300\" data-file-width=\"300\" decoding=\"async\" height=\"11\" src=\"//upload.wikimedia.org/wikipedia/commons/thumb/b/b0/Increase2.svg/11px-Increase2.svg.png\" srcset=\"//upload.wikimedia.org/wikipedia/commons/thumb/b/b0/Increase2.svg/17px-Increase2.svg.png 1.5x, //upload.wikimedia.org/wikipedia/commons/thumb/b/b0/Increase2.svg/22px-Increase2.svg.png 2x\" width=\"11\"/></span> 0,728\n",
            "</td>\n",
            "<td>103\n",
            "</td>\n",
            "<td><span title=\"Crecimiento\"><img alt=\"Crecimiento\" data-file-height=\"300\" data-file-width=\"300\" decoding=\"async\" height=\"11\" src=\"//upload.wikimedia.org/wikipedia/commons/thumb/b/b0/Increase2.svg/11px-Increase2.svg.png\" srcset=\"//upload.wikimedia.org/wikipedia/commons/thumb/b/b0/Increase2.svg/17px-Increase2.svg.png 1.5x, //upload.wikimedia.org/wikipedia/commons/thumb/b/b0/Increase2.svg/22px-Increase2.svg.png 2x\" width=\"11\"/></span> 0,004\n",
            "</td></tr>\n",
            "<tr>\n",
            "<td>14</td>\n",
            "<td><span class=\"flagicon\"><img alt=\"Bandera de Bolivia\" class=\"thumbborder\" data-file-height=\"750\" data-file-width=\"1100\" decoding=\"async\" height=\"14\" src=\"//upload.wikimedia.org/wikipedia/commons/thumb/4/48/Flag_of_Bolivia.svg/20px-Flag_of_Bolivia.svg.png\" srcset=\"//upload.wikimedia.org/wikipedia/commons/thumb/4/48/Flag_of_Bolivia.svg/30px-Flag_of_Bolivia.svg.png 1.5x, //upload.wikimedia.org/wikipedia/commons/thumb/4/48/Flag_of_Bolivia.svg/40px-Flag_of_Bolivia.svg.png 2x\" title=\"Bandera de Bolivia\" width=\"20\"/></span> <a href=\"/wiki/Bolivia\" title=\"Bolivia\">Bolivia</a>\n",
            "</td>\n",
            "<td><span title=\"Crecimiento\"><img alt=\"Crecimiento\" data-file-height=\"300\" data-file-width=\"300\" decoding=\"async\" height=\"11\" src=\"//upload.wikimedia.org/wikipedia/commons/thumb/b/b0/Increase2.svg/11px-Increase2.svg.png\" srcset=\"//upload.wikimedia.org/wikipedia/commons/thumb/b/b0/Increase2.svg/17px-Increase2.svg.png 1.5x, //upload.wikimedia.org/wikipedia/commons/thumb/b/b0/Increase2.svg/22px-Increase2.svg.png 2x\" width=\"11\"/></span> 0,718\n",
            "</td>\n",
            "<td>107\n",
            "</td>\n",
            "<td><span title=\"Crecimiento\"><img alt=\"Crecimiento\" data-file-height=\"300\" data-file-width=\"300\" decoding=\"async\" height=\"11\" src=\"//upload.wikimedia.org/wikipedia/commons/thumb/b/b0/Increase2.svg/11px-Increase2.svg.png\" srcset=\"//upload.wikimedia.org/wikipedia/commons/thumb/b/b0/Increase2.svg/17px-Increase2.svg.png 1.5x, //upload.wikimedia.org/wikipedia/commons/thumb/b/b0/Increase2.svg/22px-Increase2.svg.png 2x\" width=\"11\"/></span> 0,015\n",
            "</td></tr>\n",
            "<tr>\n",
            "<td>15</td>\n",
            "<td><span class=\"flagicon\"><img alt=\"Bandera de Venezuela\" class=\"thumbborder\" data-file-height=\"600\" data-file-width=\"900\" decoding=\"async\" height=\"13\" src=\"//upload.wikimedia.org/wikipedia/commons/thumb/0/06/Flag_of_Venezuela.svg/20px-Flag_of_Venezuela.svg.png\" srcset=\"//upload.wikimedia.org/wikipedia/commons/thumb/0/06/Flag_of_Venezuela.svg/30px-Flag_of_Venezuela.svg.png 1.5x, //upload.wikimedia.org/wikipedia/commons/thumb/0/06/Flag_of_Venezuela.svg/40px-Flag_of_Venezuela.svg.png 2x\" title=\"Bandera de Venezuela\" width=\"20\"/></span> <a href=\"/wiki/Venezuela\" title=\"Venezuela\">Venezuela</a>\n",
            "</td>\n",
            "<td><span title=\"Decrecimiento\"><img alt=\"Decrecimiento\" data-file-height=\"300\" data-file-width=\"300\" decoding=\"async\" height=\"11\" src=\"//upload.wikimedia.org/wikipedia/commons/thumb/e/ed/Decrease2.svg/11px-Decrease2.svg.png\" srcset=\"//upload.wikimedia.org/wikipedia/commons/thumb/e/ed/Decrease2.svg/17px-Decrease2.svg.png 1.5x, //upload.wikimedia.org/wikipedia/commons/thumb/e/ed/Decrease2.svg/22px-Decrease2.svg.png 2x\" width=\"11\"/></span> 0,711\n",
            "</td>\n",
            "<td>113\n",
            "</td>\n",
            "<td><span title=\"Decrecimiento\"><img alt=\"Decrecimiento\" data-file-height=\"300\" data-file-width=\"300\" decoding=\"async\" height=\"11\" src=\"//upload.wikimedia.org/wikipedia/commons/thumb/e/ed/Decrease2.svg/11px-Decrease2.svg.png\" srcset=\"//upload.wikimedia.org/wikipedia/commons/thumb/e/ed/Decrease2.svg/17px-Decrease2.svg.png 1.5x, //upload.wikimedia.org/wikipedia/commons/thumb/e/ed/Decrease2.svg/22px-Decrease2.svg.png 2x\" width=\"11\"/></span> 0,015\n",
            "</td></tr>\n",
            "<tr>\n",
            "<th colspan=\"5\" style=\"color:#FFCC00\">IDH Medio\n",
            "</th></tr>\n",
            "<tr>\n",
            "<td>16</td>\n",
            "<td><span class=\"flagicon\"><img alt=\"Bandera de El Salvador\" class=\"thumbborder\" data-file-height=\"567\" data-file-width=\"1005\" decoding=\"async\" height=\"11\" src=\"//upload.wikimedia.org/wikipedia/commons/thumb/3/34/Flag_of_El_Salvador.svg/20px-Flag_of_El_Salvador.svg.png\" srcset=\"//upload.wikimedia.org/wikipedia/commons/thumb/3/34/Flag_of_El_Salvador.svg/30px-Flag_of_El_Salvador.svg.png 1.5x, //upload.wikimedia.org/wikipedia/commons/thumb/3/34/Flag_of_El_Salvador.svg/40px-Flag_of_El_Salvador.svg.png 2x\" title=\"Bandera de El Salvador\" width=\"20\"/></span> <a href=\"/wiki/El_Salvador\" title=\"El Salvador\">El Salvador</a>\n",
            "</td>\n",
            "<td><span title=\"Crecimiento\"><img alt=\"Crecimiento\" data-file-height=\"300\" data-file-width=\"300\" decoding=\"async\" height=\"11\" src=\"//upload.wikimedia.org/wikipedia/commons/thumb/b/b0/Increase2.svg/11px-Increase2.svg.png\" srcset=\"//upload.wikimedia.org/wikipedia/commons/thumb/b/b0/Increase2.svg/17px-Increase2.svg.png 1.5x, //upload.wikimedia.org/wikipedia/commons/thumb/b/b0/Increase2.svg/22px-Increase2.svg.png 2x\" width=\"11\"/></span> 0,673\n",
            "</td>\n",
            "<td>124\n",
            "</td>\n",
            "<td><span title=\"Crecimiento\"><img alt=\"Crecimiento\" data-file-height=\"300\" data-file-width=\"300\" decoding=\"async\" height=\"11\" src=\"//upload.wikimedia.org/wikipedia/commons/thumb/b/b0/Increase2.svg/11px-Increase2.svg.png\" srcset=\"//upload.wikimedia.org/wikipedia/commons/thumb/b/b0/Increase2.svg/17px-Increase2.svg.png 1.5x, //upload.wikimedia.org/wikipedia/commons/thumb/b/b0/Increase2.svg/22px-Increase2.svg.png 2x\" width=\"11\"/></span> 0,006\n",
            "</td></tr>\n",
            "<tr>\n",
            "<td>17</td>\n",
            "<td><span class=\"flagicon\"><img alt=\"Bandera de Guatemala\" class=\"thumbborder\" data-file-height=\"600\" data-file-width=\"960\" decoding=\"async\" height=\"13\" src=\"//upload.wikimedia.org/wikipedia/commons/thumb/e/ec/Flag_of_Guatemala.svg/20px-Flag_of_Guatemala.svg.png\" srcset=\"//upload.wikimedia.org/wikipedia/commons/thumb/e/ec/Flag_of_Guatemala.svg/30px-Flag_of_Guatemala.svg.png 1.5x, //upload.wikimedia.org/wikipedia/commons/thumb/e/ec/Flag_of_Guatemala.svg/40px-Flag_of_Guatemala.svg.png 2x\" title=\"Bandera de Guatemala\" width=\"20\"/></span> <a href=\"/wiki/Guatemala\" title=\"Guatemala\">Guatemala</a>\n",
            "</td>\n",
            "<td><span title=\"Crecimiento\"><img alt=\"Crecimiento\" data-file-height=\"300\" data-file-width=\"300\" decoding=\"async\" height=\"11\" src=\"//upload.wikimedia.org/wikipedia/commons/thumb/b/b0/Increase2.svg/11px-Increase2.svg.png\" srcset=\"//upload.wikimedia.org/wikipedia/commons/thumb/b/b0/Increase2.svg/17px-Increase2.svg.png 1.5x, //upload.wikimedia.org/wikipedia/commons/thumb/b/b0/Increase2.svg/22px-Increase2.svg.png 2x\" width=\"11\"/></span> 0,663\n",
            "</td>\n",
            "<td>127\n",
            "</td>\n",
            "<td><span title=\"Crecimiento\"><img alt=\"Crecimiento\" data-file-height=\"300\" data-file-width=\"300\" decoding=\"async\" height=\"11\" src=\"//upload.wikimedia.org/wikipedia/commons/thumb/b/b0/Increase2.svg/11px-Increase2.svg.png\" srcset=\"//upload.wikimedia.org/wikipedia/commons/thumb/b/b0/Increase2.svg/17px-Increase2.svg.png 1.5x, //upload.wikimedia.org/wikipedia/commons/thumb/b/b0/Increase2.svg/22px-Increase2.svg.png 2x\" width=\"11\"/></span> 0,012\n",
            "</td></tr>\n",
            "<tr>\n",
            "<td>18</td>\n",
            "<td><span class=\"flagicon\"><img alt=\"Bandera de Nicaragua\" class=\"thumbborder\" data-file-height=\"600\" data-file-width=\"1000\" decoding=\"async\" height=\"12\" src=\"//upload.wikimedia.org/wikipedia/commons/thumb/1/19/Flag_of_Nicaragua.svg/20px-Flag_of_Nicaragua.svg.png\" srcset=\"//upload.wikimedia.org/wikipedia/commons/thumb/1/19/Flag_of_Nicaragua.svg/30px-Flag_of_Nicaragua.svg.png 1.5x, //upload.wikimedia.org/wikipedia/commons/thumb/1/19/Flag_of_Nicaragua.svg/40px-Flag_of_Nicaragua.svg.png 2x\" title=\"Bandera de Nicaragua\" width=\"20\"/></span> <a href=\"/wiki/Nicaragua\" title=\"Nicaragua\">Nicaragua</a>\n",
            "</td>\n",
            "<td><span title=\"Crecimiento\"><img alt=\"Crecimiento\" data-file-height=\"300\" data-file-width=\"300\" decoding=\"async\" height=\"11\" src=\"//upload.wikimedia.org/wikipedia/commons/thumb/b/b0/Increase2.svg/11px-Increase2.svg.png\" srcset=\"//upload.wikimedia.org/wikipedia/commons/thumb/b/b0/Increase2.svg/17px-Increase2.svg.png 1.5x, //upload.wikimedia.org/wikipedia/commons/thumb/b/b0/Increase2.svg/22px-Increase2.svg.png 2x\" width=\"11\"/></span> 0,660\n",
            "</td>\n",
            "<td>128\n",
            "</td>\n",
            "<td><span title=\"Crecimiento\"><img alt=\"Crecimiento\" data-file-height=\"300\" data-file-width=\"300\" decoding=\"async\" height=\"11\" src=\"//upload.wikimedia.org/wikipedia/commons/thumb/b/b0/Increase2.svg/11px-Increase2.svg.png\" srcset=\"//upload.wikimedia.org/wikipedia/commons/thumb/b/b0/Increase2.svg/17px-Increase2.svg.png 1.5x, //upload.wikimedia.org/wikipedia/commons/thumb/b/b0/Increase2.svg/22px-Increase2.svg.png 2x\" width=\"11\"/></span> 0,009\n",
            "</td></tr>\n",
            "<tr>\n",
            "<td>19</td>\n",
            "<td><span class=\"flagicon\"><img alt=\"Bandera de Honduras\" class=\"thumbborder\" data-file-height=\"630\" data-file-width=\"1260\" decoding=\"async\" height=\"10\" src=\"//upload.wikimedia.org/wikipedia/commons/thumb/8/82/Flag_of_Honduras.svg/20px-Flag_of_Honduras.svg.png\" srcset=\"//upload.wikimedia.org/wikipedia/commons/thumb/8/82/Flag_of_Honduras.svg/30px-Flag_of_Honduras.svg.png 1.5x, //upload.wikimedia.org/wikipedia/commons/thumb/8/82/Flag_of_Honduras.svg/40px-Flag_of_Honduras.svg.png 2x\" title=\"Bandera de Honduras\" width=\"20\"/></span> <a href=\"/wiki/Honduras\" title=\"Honduras\">Honduras</a>\n",
            "</td>\n",
            "<td><span title=\"Crecimiento\"><img alt=\"Crecimiento\" data-file-height=\"300\" data-file-width=\"300\" decoding=\"async\" height=\"11\" src=\"//upload.wikimedia.org/wikipedia/commons/thumb/b/b0/Increase2.svg/11px-Increase2.svg.png\" srcset=\"//upload.wikimedia.org/wikipedia/commons/thumb/b/b0/Increase2.svg/17px-Increase2.svg.png 1.5x, //upload.wikimedia.org/wikipedia/commons/thumb/b/b0/Increase2.svg/22px-Increase2.svg.png 2x\" width=\"11\"/></span> 0,634\n",
            "</td>\n",
            "<td>132\n",
            "</td>\n",
            "<td><span title=\"Crecimiento\"><img alt=\"Crecimiento\" data-file-height=\"300\" data-file-width=\"300\" decoding=\"async\" height=\"11\" src=\"//upload.wikimedia.org/wikipedia/commons/thumb/b/b0/Increase2.svg/11px-Increase2.svg.png\" srcset=\"//upload.wikimedia.org/wikipedia/commons/thumb/b/b0/Increase2.svg/17px-Increase2.svg.png 1.5x, //upload.wikimedia.org/wikipedia/commons/thumb/b/b0/Increase2.svg/22px-Increase2.svg.png 2x\" width=\"11\"/></span> 0,011\n",
            "</td></tr>\n",
            "<tr>\n",
            "<th colspan=\"5\" style=\"color:#990000\">IDH Bajo\n",
            "</th></tr>\n",
            "<tr>\n",
            "<td>20</td>\n",
            "<td><span class=\"flagicon\"><img alt=\"Bandera de Haití\" class=\"thumbborder\" data-file-height=\"600\" data-file-width=\"1000\" decoding=\"async\" height=\"12\" src=\"//upload.wikimedia.org/wikipedia/commons/thumb/5/56/Flag_of_Haiti.svg/20px-Flag_of_Haiti.svg.png\" srcset=\"//upload.wikimedia.org/wikipedia/commons/thumb/5/56/Flag_of_Haiti.svg/30px-Flag_of_Haiti.svg.png 1.5x, //upload.wikimedia.org/wikipedia/commons/thumb/5/56/Flag_of_Haiti.svg/40px-Flag_of_Haiti.svg.png 2x\" title=\"Bandera de Haití\" width=\"20\"/></span> <a href=\"/wiki/Hait%C3%AD\" title=\"Haití\">Haití</a>\n",
            "</td>\n",
            "<td><span title=\"Crecimiento\"><img alt=\"Crecimiento\" data-file-height=\"300\" data-file-width=\"300\" decoding=\"async\" height=\"11\" src=\"//upload.wikimedia.org/wikipedia/commons/thumb/b/b0/Increase2.svg/11px-Increase2.svg.png\" srcset=\"//upload.wikimedia.org/wikipedia/commons/thumb/b/b0/Increase2.svg/17px-Increase2.svg.png 1.5x, //upload.wikimedia.org/wikipedia/commons/thumb/b/b0/Increase2.svg/22px-Increase2.svg.png 2x\" width=\"11\"/></span> 0,510\n",
            "</td>\n",
            "<td>170\n",
            "</td>\n",
            "<td><span title=\"Crecimiento\"><img alt=\"Crecimiento\" data-file-height=\"300\" data-file-width=\"300\" decoding=\"async\" height=\"11\" src=\"//upload.wikimedia.org/wikipedia/commons/thumb/b/b0/Increase2.svg/11px-Increase2.svg.png\" srcset=\"//upload.wikimedia.org/wikipedia/commons/thumb/b/b0/Increase2.svg/17px-Increase2.svg.png 1.5x, //upload.wikimedia.org/wikipedia/commons/thumb/b/b0/Increase2.svg/22px-Increase2.svg.png 2x\" width=\"11\"/></span> 0,007\n",
            "</td></tr>\n",
            "</tbody></table>\n"
          ],
          "name": "stdout"
        }
      ]
    },
    {
      "cell_type": "code",
      "metadata": {
        "id": "9Xn88SK819rv"
      },
      "source": [
        "name_columns = []\n",
        "\n",
        "for element in table.find_all('th'):\n",
        "  if str(element.string)[0] == '2':\n",
        "    name_columns.append(element.string[:-1])\n",
        "    print(element.string[:-1])"
      ],
      "execution_count": null,
      "outputs": []
    },
    {
      "cell_type": "code",
      "metadata": {
        "id": "jJEQQ82J2Ofh"
      },
      "source": [
        "for element in table.find_all('td'):\n",
        "  print"
      ],
      "execution_count": null,
      "outputs": []
    },
    {
      "cell_type": "code",
      "metadata": {
        "id": "ikpT3-Fo2t_Y",
        "colab": {
          "base_uri": "https://localhost:8080/"
        },
        "outputId": "f3b2ccaf-8610-4de1-c635-353170f08e2b"
      },
      "source": [
        "table.find_all('th')"
      ],
      "execution_count": null,
      "outputs": [
        {
          "output_type": "execute_result",
          "data": {
            "text/plain": [
              "[<th colspan=\"5\" style=\"color:#009900\">IDH Muy alto\n",
              " </th>, <th>Puesto\n",
              " </th>, <th>País\n",
              " </th>, <th>IDH según datos del 2019\n",
              " </th>, <th>Puesto\n",
              " </th>, <th>Diferencia con datos del 2018\n",
              " </th>, <th colspan=\"5\" style=\"color:#00CC00\">IDH Alto\n",
              " </th>, <th colspan=\"5\" style=\"color:#FFCC00\">IDH Medio\n",
              " </th>, <th colspan=\"5\" style=\"color:#990000\">IDH Bajo\n",
              " </th>]"
            ]
          },
          "metadata": {
            "tags": []
          },
          "execution_count": 19
        }
      ]
    },
    {
      "cell_type": "code",
      "metadata": {
        "id": "0MWC0QYE2uMd"
      },
      "source": [
        ""
      ],
      "execution_count": null,
      "outputs": []
    }
  ]
}